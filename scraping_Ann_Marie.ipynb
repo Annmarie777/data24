{
  "nbformat": 4,
  "nbformat_minor": 0,
  "metadata": {
    "colab": {
      "provenance": []
    },
    "kernelspec": {
      "name": "python3",
      "display_name": "Python 3"
    },
    "language_info": {
      "name": "python"
    }
  },
  "cells": [
    {
      "cell_type": "code",
      "execution_count": 45,
      "metadata": {
        "id": "UAEolF_SnBQS"
      },
      "outputs": [],
      "source": [
        "from bs4 import BeautifulSoup\n",
        "import requests"
      ]
    },
    {
      "cell_type": "code",
      "source": [
        "response = requests.get(\"https://books.toscrape.com/\")"
      ],
      "metadata": {
        "id": "YlqK3cFMrse3"
      },
      "execution_count": 46,
      "outputs": []
    },
    {
      "cell_type": "code",
      "source": [
        "from bs4 import BeautifulSoup\n",
        "import requests\n"
      ],
      "metadata": {
        "id": "c0hNe4-Vr7Lu"
      },
      "execution_count": 47,
      "outputs": []
    },
    {
      "cell_type": "code",
      "source": [
        "soup= BeautifulSoup(response.content, parser=\"html.parser\")\n"
      ],
      "metadata": {
        "id": "pkezlD5QsjNO"
      },
      "execution_count": 48,
      "outputs": []
    },
    {
      "cell_type": "code",
      "source": [
        " book1= soup.find(\"li\", class_=\"col-xs-6 col-sm-4 col-md-3 col-lg-3\")"
      ],
      "metadata": {
        "id": "un2TkxxEt6V9"
      },
      "execution_count": 53,
      "outputs": []
    },
    {
      "cell_type": "code",
      "source": [
        "rating = book1.find(\"p\", class_=\"star-rating Three\")"
      ],
      "metadata": {
        "id": "PlwV78kfxAXj"
      },
      "execution_count": 54,
      "outputs": []
    },
    {
      "cell_type": "code",
      "source": [
        "rating"
      ],
      "metadata": {
        "colab": {
          "base_uri": "https://localhost:8080/"
        },
        "id": "mYX18-L1xDdc",
        "outputId": "33218c6d-5c57-4170-94c3-ab36e9d55f34"
      },
      "execution_count": 55,
      "outputs": [
        {
          "output_type": "execute_result",
          "data": {
            "text/plain": [
              "<p class=\"star-rating Three\">\n",
              "<i class=\"icon-star\"></i>\n",
              "<i class=\"icon-star\"></i>\n",
              "<i class=\"icon-star\"></i>\n",
              "<i class=\"icon-star\"></i>\n",
              "<i class=\"icon-star\"></i>\n",
              "</p>"
            ]
          },
          "metadata": {},
          "execution_count": 55
        }
      ]
    },
    {
      "cell_type": "code",
      "source": [
        "bookrating= rating.get(\"class\")[1]"
      ],
      "metadata": {
        "id": "Y0HUXTp0xJj8"
      },
      "execution_count": 56,
      "outputs": []
    },
    {
      "cell_type": "code",
      "source": [
        "bookrating"
      ],
      "metadata": {
        "colab": {
          "base_uri": "https://localhost:8080/",
          "height": 35
        },
        "id": "P2Kfs1lcxO1U",
        "outputId": "efa01f13-6b7c-43a0-f0d1-b28413032a04"
      },
      "execution_count": 57,
      "outputs": [
        {
          "output_type": "execute_result",
          "data": {
            "text/plain": [
              "'Three'"
            ],
            "application/vnd.google.colaboratory.intrinsic+json": {
              "type": "string"
            }
          },
          "metadata": {},
          "execution_count": 57
        }
      ]
    },
    {
      "cell_type": "code",
      "source": [
        "price = book1.find('p', class_='price_color').text"
      ],
      "metadata": {
        "id": "9d9LOyCyzouD"
      },
      "execution_count": 58,
      "outputs": []
    },
    {
      "cell_type": "code",
      "source": [
        "price"
      ],
      "metadata": {
        "colab": {
          "base_uri": "https://localhost:8080/",
          "height": 35
        },
        "id": "vxN4k9hZz4fE",
        "outputId": "670917d4-104b-4d52-eafb-c39f2c98a079"
      },
      "execution_count": 59,
      "outputs": [
        {
          "output_type": "execute_result",
          "data": {
            "text/plain": [
              "'£51.77'"
            ],
            "application/vnd.google.colaboratory.intrinsic+json": {
              "type": "string"
            }
          },
          "metadata": {},
          "execution_count": 59
        }
      ]
    },
    {
      "cell_type": "code",
      "source": [
        "title= book1.find(\"h3\").find('a').get(\"title\")"
      ],
      "metadata": {
        "id": "Fkf-YBWS1ern"
      },
      "execution_count": 71,
      "outputs": []
    },
    {
      "cell_type": "code",
      "source": [
        "title"
      ],
      "metadata": {
        "colab": {
          "base_uri": "https://localhost:8080/",
          "height": 35
        },
        "id": "Bs3rk_Rk3u86",
        "outputId": "199f10c4-9a44-4197-9834-f8f6d1fbf4ac"
      },
      "execution_count": 72,
      "outputs": [
        {
          "output_type": "execute_result",
          "data": {
            "text/plain": [
              "'A Light in the Attic'"
            ],
            "application/vnd.google.colaboratory.intrinsic+json": {
              "type": "string"
            }
          },
          "metadata": {},
          "execution_count": 72
        }
      ]
    },
    {
      "cell_type": "code",
      "source": [
        "in_stock=book1.find('p', class_='instock availability').text"
      ],
      "metadata": {
        "id": "QAHv4aU75Iel"
      },
      "execution_count": 73,
      "outputs": []
    },
    {
      "cell_type": "code",
      "source": [
        "in_stock.strip()"
      ],
      "metadata": {
        "colab": {
          "base_uri": "https://localhost:8080/",
          "height": 35
        },
        "id": "bun_wTFbDOeu",
        "outputId": "8862b863-5cc8-4932-82e5-c5588fd4007c"
      },
      "execution_count": 94,
      "outputs": [
        {
          "output_type": "execute_result",
          "data": {
            "text/plain": [
              "'In stock'"
            ],
            "application/vnd.google.colaboratory.intrinsic+json": {
              "type": "string"
            }
          },
          "metadata": {},
          "execution_count": 94
        }
      ]
    },
    {
      "cell_type": "code",
      "source": [
        "price = soup.find_all('p', class_='price_color')\n",
        "price"
      ],
      "metadata": {
        "colab": {
          "base_uri": "https://localhost:8080/"
        },
        "id": "98Mqvd1pEbLw",
        "outputId": "5448abd3-cfcc-4bcb-ce65-e1ae63b1a842"
      },
      "execution_count": 82,
      "outputs": [
        {
          "output_type": "execute_result",
          "data": {
            "text/plain": [
              "[<p class=\"price_color\">£51.77</p>,\n",
              " <p class=\"price_color\">£53.74</p>,\n",
              " <p class=\"price_color\">£50.10</p>,\n",
              " <p class=\"price_color\">£47.82</p>,\n",
              " <p class=\"price_color\">£54.23</p>,\n",
              " <p class=\"price_color\">£22.65</p>,\n",
              " <p class=\"price_color\">£33.34</p>,\n",
              " <p class=\"price_color\">£17.93</p>,\n",
              " <p class=\"price_color\">£22.60</p>,\n",
              " <p class=\"price_color\">£52.15</p>,\n",
              " <p class=\"price_color\">£13.99</p>,\n",
              " <p class=\"price_color\">£20.66</p>,\n",
              " <p class=\"price_color\">£17.46</p>,\n",
              " <p class=\"price_color\">£52.29</p>,\n",
              " <p class=\"price_color\">£35.02</p>,\n",
              " <p class=\"price_color\">£57.25</p>,\n",
              " <p class=\"price_color\">£23.88</p>,\n",
              " <p class=\"price_color\">£37.59</p>,\n",
              " <p class=\"price_color\">£51.33</p>,\n",
              " <p class=\"price_color\">£45.17</p>]"
            ]
          },
          "metadata": {},
          "execution_count": 82
        }
      ]
    },
    {
      "cell_type": "code",
      "source": [
        "pricelist= []\n",
        "\n",
        "\n",
        "for i in price:\n",
        "  pricelist.append(i.text)"
      ],
      "metadata": {
        "id": "mADpBuvXERCA"
      },
      "execution_count": 83,
      "outputs": []
    },
    {
      "cell_type": "code",
      "source": [
        "pricelist\n"
      ],
      "metadata": {
        "colab": {
          "base_uri": "https://localhost:8080/"
        },
        "id": "j0Rq8ICKDP5W",
        "outputId": "4c0519f0-5359-4f7c-d524-0ceb1e740243"
      },
      "execution_count": 84,
      "outputs": [
        {
          "output_type": "execute_result",
          "data": {
            "text/plain": [
              "['£51.77',\n",
              " '£53.74',\n",
              " '£50.10',\n",
              " '£47.82',\n",
              " '£54.23',\n",
              " '£22.65',\n",
              " '£33.34',\n",
              " '£17.93',\n",
              " '£22.60',\n",
              " '£52.15',\n",
              " '£13.99',\n",
              " '£20.66',\n",
              " '£17.46',\n",
              " '£52.29',\n",
              " '£35.02',\n",
              " '£57.25',\n",
              " '£23.88',\n",
              " '£37.59',\n",
              " '£51.33',\n",
              " '£45.17']"
            ]
          },
          "metadata": {},
          "execution_count": 84
        }
      ]
    },
    {
      "cell_type": "code",
      "source": [
        "titlelist=[]\n",
        "for i in soup.find_all(\"li\",class_='col-xs-6 col-sm-4 col-md-3 col-lg-3'):\n",
        "  titlelist.append(i.find(\"h3\").find('a').get(\"title\"))\n",
        "\n",
        "titlelist\n"
      ],
      "metadata": {
        "colab": {
          "base_uri": "https://localhost:8080/"
        },
        "id": "AdSl5coxEt94",
        "outputId": "7d12611e-9f8a-4664-ac69-32f44fdac5dc"
      },
      "execution_count": 86,
      "outputs": [
        {
          "output_type": "execute_result",
          "data": {
            "text/plain": [
              "['A Light in the Attic',\n",
              " 'Tipping the Velvet',\n",
              " 'Soumission',\n",
              " 'Sharp Objects',\n",
              " 'Sapiens: A Brief History of Humankind',\n",
              " 'The Requiem Red',\n",
              " 'The Dirty Little Secrets of Getting Your Dream Job',\n",
              " 'The Coming Woman: A Novel Based on the Life of the Infamous Feminist, Victoria Woodhull',\n",
              " 'The Boys in the Boat: Nine Americans and Their Epic Quest for Gold at the 1936 Berlin Olympics',\n",
              " 'The Black Maria',\n",
              " 'Starving Hearts (Triangular Trade Trilogy, #1)',\n",
              " \"Shakespeare's Sonnets\",\n",
              " 'Set Me Free',\n",
              " \"Scott Pilgrim's Precious Little Life (Scott Pilgrim #1)\",\n",
              " 'Rip it Up and Start Again',\n",
              " 'Our Band Could Be Your Life: Scenes from the American Indie Underground, 1981-1991',\n",
              " 'Olio',\n",
              " 'Mesaerion: The Best Science Fiction Stories 1800-1849',\n",
              " 'Libertarianism for Beginners',\n",
              " \"It's Only the Himalayas\"]"
            ]
          },
          "metadata": {},
          "execution_count": 86
        }
      ]
    },
    {
      "cell_type": "code",
      "source": [
        "ratinglist=[]\n",
        "for i in soup.find_all(\"li\",class_='col-xs-6 col-sm-4 col-md-3 col-lg-3'):\n",
        "  ratinglist.append(i.find(\"p\", class_=\"star-rating\")[\"class\"][1])\n",
        "\n"
      ],
      "metadata": {
        "id": "569CXjFQF626"
      },
      "execution_count": 92,
      "outputs": []
    },
    {
      "cell_type": "code",
      "source": [
        "ratinglist"
      ],
      "metadata": {
        "colab": {
          "base_uri": "https://localhost:8080/"
        },
        "id": "DeFNTdlaGqwj",
        "outputId": "58a818fd-42b8-4133-bbce-5b0f343eb9e9"
      },
      "execution_count": 93,
      "outputs": [
        {
          "output_type": "execute_result",
          "data": {
            "text/plain": [
              "['Three',\n",
              " 'One',\n",
              " 'One',\n",
              " 'Four',\n",
              " 'Five',\n",
              " 'One',\n",
              " 'Four',\n",
              " 'Three',\n",
              " 'Four',\n",
              " 'One',\n",
              " 'Two',\n",
              " 'Four',\n",
              " 'Five',\n",
              " 'Five',\n",
              " 'Five',\n",
              " 'Three',\n",
              " 'One',\n",
              " 'One',\n",
              " 'Two',\n",
              " 'Two']"
            ]
          },
          "metadata": {},
          "execution_count": 93
        }
      ]
    },
    {
      "cell_type": "code",
      "source": [
        "instocklist=[]\n",
        "for i in soup.find_all(\"li\",class_='col-xs-6 col-sm-4 col-md-3 col-lg-3'):\n",
        " instocklist.append(i.find('p', class_='instock availability'))"
      ],
      "metadata": {
        "id": "hNw6r6mJHyA8"
      },
      "execution_count": 99,
      "outputs": []
    },
    {
      "cell_type": "code",
      "source": [
        "for i in instocklist:\n",
        "  print(i.text)"
      ],
      "metadata": {
        "colab": {
          "base_uri": "https://localhost:8080/"
        },
        "id": "Q0BihkpbJjJ1",
        "outputId": "df1b4b27-edf5-485a-b765-e12ca5802f09"
      },
      "execution_count": 105,
      "outputs": [
        {
          "output_type": "stream",
          "name": "stdout",
          "text": [
            "\n",
            "\n",
            "    \n",
            "        In stock\n",
            "    \n",
            "\n",
            "\n",
            "\n",
            "    \n",
            "        In stock\n",
            "    \n",
            "\n",
            "\n",
            "\n",
            "    \n",
            "        In stock\n",
            "    \n",
            "\n",
            "\n",
            "\n",
            "    \n",
            "        In stock\n",
            "    \n",
            "\n",
            "\n",
            "\n",
            "    \n",
            "        In stock\n",
            "    \n",
            "\n",
            "\n",
            "\n",
            "    \n",
            "        In stock\n",
            "    \n",
            "\n",
            "\n",
            "\n",
            "    \n",
            "        In stock\n",
            "    \n",
            "\n",
            "\n",
            "\n",
            "    \n",
            "        In stock\n",
            "    \n",
            "\n",
            "\n",
            "\n",
            "    \n",
            "        In stock\n",
            "    \n",
            "\n",
            "\n",
            "\n",
            "    \n",
            "        In stock\n",
            "    \n",
            "\n",
            "\n",
            "\n",
            "    \n",
            "        In stock\n",
            "    \n",
            "\n",
            "\n",
            "\n",
            "    \n",
            "        In stock\n",
            "    \n",
            "\n",
            "\n",
            "\n",
            "    \n",
            "        In stock\n",
            "    \n",
            "\n",
            "\n",
            "\n",
            "    \n",
            "        In stock\n",
            "    \n",
            "\n",
            "\n",
            "\n",
            "    \n",
            "        In stock\n",
            "    \n",
            "\n",
            "\n",
            "\n",
            "    \n",
            "        In stock\n",
            "    \n",
            "\n",
            "\n",
            "\n",
            "    \n",
            "        In stock\n",
            "    \n",
            "\n",
            "\n",
            "\n",
            "    \n",
            "        In stock\n",
            "    \n",
            "\n",
            "\n",
            "\n",
            "    \n",
            "        In stock\n",
            "    \n",
            "\n",
            "\n",
            "\n",
            "    \n",
            "        In stock\n",
            "    \n",
            "\n"
          ]
        }
      ]
    },
    {
      "cell_type": "code",
      "source": [],
      "metadata": {
        "id": "eqUBYWyHJ_-3"
      },
      "execution_count": null,
      "outputs": []
    }
  ]
}